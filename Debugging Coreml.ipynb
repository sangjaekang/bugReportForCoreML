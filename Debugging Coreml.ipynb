{
 "cells": [
  {
   "cell_type": "code",
   "execution_count": 4,
   "metadata": {},
   "outputs": [],
   "source": [
    "%matplotlib inline\n",
    "import cv2\n",
    "import coremltools\n",
    "import numpy as np\n",
    "import matplotlib.pyplot as plt\n",
    "\n",
    "import tensorflow as tf\n",
    "import keras\n",
    "from keras.models import model_from_json\n",
    "\n",
    "import PIL\n",
    "from PIL import Image"
   ]
  },
  {
   "cell_type": "code",
   "execution_count": 8,
   "metadata": {},
   "outputs": [
    {
     "name": "stdout",
     "output_type": "stream",
     "text": [
      "tensorflow version :  1.5.0\n",
      "keras version :  2.1.3\n",
      "coreml version :  1\n"
     ]
    }
   ],
   "source": [
    "print(\"tensorflow version : \",tf.__version__)\n",
    "print(\"keras version : \",keras.__version__)\n",
    "print(\"coreml version : \",coremltools.SPECIFICATION_VERSION)"
   ]
  },
  {
   "cell_type": "code",
   "execution_count": null,
   "metadata": {},
   "outputs": [],
   "source": [
    "with open(\"model.json\",'r') as f:\n",
    "    model = model_from_json(f.read())\n",
    "model.load_weights(\"model.h5\")   "
   ]
  },
  {
   "cell_type": "code",
   "execution_count": null,
   "metadata": {},
   "outputs": [],
   "source": [
    "# Sample Image\n",
    "img = cv2.imread(\"sample.png\")\n",
    "img = cv2.cvtColor(img,cv2.COLOR_BGR2RGB)\n",
    "img = img / 255."
   ]
  },
  {
   "cell_type": "code",
   "execution_count": null,
   "metadata": {},
   "outputs": [],
   "source": [
    "out = model.predict(np.expand_dims(img,axis=0))\n",
    "\n",
    "plt.imshow(img)\n",
    "plt.show()\n",
    "plt.imshow(out[0,:,:,:3])\n",
    "plt.show()\n",
    "\n",
    "print(\"NAN Counts in Keras.predict :\",np.isnan(out.flatten()).sum())"
   ]
  },
  {
   "cell_type": "code",
   "execution_count": null,
   "metadata": {
    "scrolled": false
   },
   "outputs": [],
   "source": [
    "for _ in range(20):\n",
    "    coreml_model = coremltools.converters.keras.convert(\n",
    "        model,\n",
    "        input_names='image',\n",
    "        image_input_names='image',\n",
    "        output_names='output',\n",
    "        image_scale=1/255.0,\n",
    "    )\n",
    "\n",
    "    coreml_inputs = {\"image\":Image.fromarray((img*255).astype(np.uint8))}\n",
    "    output = coreml_model.predict(coreml_inputs,useCPUOnly=True)['output']\n",
    "    \n",
    "    print(\"- \"*50)\n",
    "    count=0\n",
    "    for i in range(output.shape[0]):\n",
    "        nb_nan = np.isnan(output[i].flatten()).sum()\n",
    "        if nb_nan > 0:\n",
    "            print(\"{:2d}th layer have {} nans\".format(i,nb_nan))\n",
    "            count+=1\n",
    "    print(\"\\ntotal NaN layer : {}\".format(count))\n",
    "    print(\"- \"*50)"
   ]
  },
  {
   "cell_type": "code",
   "execution_count": null,
   "metadata": {},
   "outputs": [],
   "source": []
  }
 ],
 "metadata": {
  "kernelspec": {
   "display_name": "Python 3",
   "language": "python",
   "name": "python3"
  },
  "language_info": {
   "codemirror_mode": {
    "name": "ipython",
    "version": 3
   },
   "file_extension": ".py",
   "mimetype": "text/x-python",
   "name": "python",
   "nbconvert_exporter": "python",
   "pygments_lexer": "ipython3",
   "version": "3.6.5"
  }
 },
 "nbformat": 4,
 "nbformat_minor": 2
}
